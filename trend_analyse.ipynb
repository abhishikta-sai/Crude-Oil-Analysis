{
 "cells": [
  {
   "cell_type": "code",
   "execution_count": 4,
   "metadata": {},
   "outputs": [],
   "source": [
    "import pandas as pd\n",
    "import datetime\n"
   ]
  },
  {
   "cell_type": "code",
   "execution_count": 12,
   "metadata": {},
   "outputs": [
    {
     "data": {
      "text/plain": [
       "[2011, 2012, 2013, 2014, 2015, 2016, 2017, 2018]"
      ]
     },
     "execution_count": 12,
     "metadata": {},
     "output_type": "execute_result"
    }
   ],
   "source": [
    "\n",
    "df = pd.read_csv(\"merge_oil.csv\")\n",
    "\n",
    "dates = [datetime.date(int(i.split('-')[0]),int(i.split('-')[1]),int(i.split('-')[2])) for i in list(df[\"Date\"])]\n",
    "\n",
    "df[\"Year\"] = [int(i.split('-')[0] for i in df[\"Date\"]]\n",
    "df[\"Month\"] = \n",
    "\n",
    "\n",
    "years = list(set([i.year for i in dates]))\n",
    "years.sort()\n",
    "years\n",
    "\n",
    "yearly_data_oil = dict()\n",
    "for i in years:\n",
    "    yearly_data_oil[i] = \n",
    "\n",
    "\n",
    "\n",
    "#getting week number for a given date\n",
    "#datetime.date(2010, 6, 16).isocalendar()[1]\n"
   ]
  },
  {
   "cell_type": "code",
   "execution_count": null,
   "metadata": {},
   "outputs": [],
   "source": []
  }
 ],
 "metadata": {
  "kernelspec": {
   "display_name": "Python 3",
   "language": "python",
   "name": "python3"
  },
  "language_info": {
   "codemirror_mode": {
    "name": "ipython",
    "version": 3
   },
   "file_extension": ".py",
   "mimetype": "text/x-python",
   "name": "python",
   "nbconvert_exporter": "python",
   "pygments_lexer": "ipython3",
   "version": "3.6.4"
  }
 },
 "nbformat": 4,
 "nbformat_minor": 2
}
