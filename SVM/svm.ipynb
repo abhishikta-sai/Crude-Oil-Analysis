{
 "cells": [
  {
   "cell_type": "code",
   "execution_count": 1,
   "metadata": {},
   "outputs": [
    {
     "data": {
      "text/html": [
       "<div>\n",
       "<style scoped>\n",
       "    .dataframe tbody tr th:only-of-type {\n",
       "        vertical-align: middle;\n",
       "    }\n",
       "\n",
       "    .dataframe tbody tr th {\n",
       "        vertical-align: top;\n",
       "    }\n",
       "\n",
       "    .dataframe thead th {\n",
       "        text-align: right;\n",
       "    }\n",
       "</style>\n",
       "<table border=\"1\" class=\"dataframe\">\n",
       "  <thead>\n",
       "    <tr style=\"text-align: right;\">\n",
       "      <th></th>\n",
       "      <th>Date</th>\n",
       "      <th>US_Price</th>\n",
       "      <th>Dollar_eq</th>\n",
       "      <th>Price</th>\n",
       "      <th>Open</th>\n",
       "      <th>High</th>\n",
       "      <th>Low</th>\n",
       "      <th>Volume</th>\n",
       "      <th>Percent_Change</th>\n",
       "      <th>IOC_Open</th>\n",
       "      <th>...</th>\n",
       "      <th>ONGC_Open</th>\n",
       "      <th>ONGC_High</th>\n",
       "      <th>ONGC_Low</th>\n",
       "      <th>ONGC_Close</th>\n",
       "      <th>ONGC_Volume</th>\n",
       "      <th>TCI_Open</th>\n",
       "      <th>TCI_High</th>\n",
       "      <th>TCI_Low</th>\n",
       "      <th>TCI_Close</th>\n",
       "      <th>TCI_Volume</th>\n",
       "    </tr>\n",
       "  </thead>\n",
       "  <tbody>\n",
       "    <tr>\n",
       "      <th>0</th>\n",
       "      <td>2011-12-12</td>\n",
       "      <td>NaN</td>\n",
       "      <td>.52..605.</td>\n",
       "      <td>5203</td>\n",
       "      <td>5180</td>\n",
       "      <td>5222</td>\n",
       "      <td>5161</td>\n",
       "      <td>220040</td>\n",
       "      <td>.2..53.</td>\n",
       "      <td>68</td>\n",
       "      <td>...</td>\n",
       "      <td>.174..800003.</td>\n",
       "      <td>.177..233002.</td>\n",
       "      <td>.170..332993.</td>\n",
       "      <td>.171..600006.</td>\n",
       "      <td>3607640</td>\n",
       "      <td>62</td>\n",
       "      <td>.62..450001.</td>\n",
       "      <td>.58..5.</td>\n",
       "      <td>.59..900002.</td>\n",
       "      <td>2818</td>\n",
       "    </tr>\n",
       "    <tr>\n",
       "      <th>1</th>\n",
       "      <td>2011-12-13</td>\n",
       "      <td>NaN</td>\n",
       "      <td>.53..1.</td>\n",
       "      <td>5342</td>\n",
       "      <td>5206</td>\n",
       "      <td>5380</td>\n",
       "      <td>5206</td>\n",
       "      <td>214520</td>\n",
       "      <td>.2..67.</td>\n",
       "      <td>.67..112503.</td>\n",
       "      <td>...</td>\n",
       "      <td>.170..867004.</td>\n",
       "      <td>.172..199997.</td>\n",
       "      <td>.168..367004.</td>\n",
       "      <td>.170..266998.</td>\n",
       "      <td>3822892</td>\n",
       "      <td>.59..900002.</td>\n",
       "      <td>.60..849998.</td>\n",
       "      <td>58</td>\n",
       "      <td>.59..349998.</td>\n",
       "      <td>3453</td>\n",
       "    </tr>\n",
       "    <tr>\n",
       "      <th>2</th>\n",
       "      <td>2011-12-14</td>\n",
       "      <td>NaN</td>\n",
       "      <td>.53..61.</td>\n",
       "      <td>5209</td>\n",
       "      <td>5353</td>\n",
       "      <td>5368</td>\n",
       "      <td>5186</td>\n",
       "      <td>243960</td>\n",
       "      <td>.-2..49.</td>\n",
       "      <td>.69..125.</td>\n",
       "      <td>...</td>\n",
       "      <td>.169..667007.</td>\n",
       "      <td>.171..332993.</td>\n",
       "      <td>.167..332993.</td>\n",
       "      <td>.168..033005.</td>\n",
       "      <td>3553436</td>\n",
       "      <td>.60..5.</td>\n",
       "      <td>.60..5.</td>\n",
       "      <td>.59..950001.</td>\n",
       "      <td>60</td>\n",
       "      <td>1813</td>\n",
       "    </tr>\n",
       "    <tr>\n",
       "      <th>3</th>\n",
       "      <td>2011-12-15</td>\n",
       "      <td>NaN</td>\n",
       "      <td>.53..52.</td>\n",
       "      <td>5036</td>\n",
       "      <td>5200</td>\n",
       "      <td>5200</td>\n",
       "      <td>5021</td>\n",
       "      <td>225330</td>\n",
       "      <td>.-3..32.</td>\n",
       "      <td>.67..75.</td>\n",
       "      <td>...</td>\n",
       "      <td>.166..667007.</td>\n",
       "      <td>.169..167007.</td>\n",
       "      <td>.165..332993.</td>\n",
       "      <td>.167..399994.</td>\n",
       "      <td>7229764</td>\n",
       "      <td>.60..5.</td>\n",
       "      <td>.60..5.</td>\n",
       "      <td>.58..700001.</td>\n",
       "      <td>.59..400002.</td>\n",
       "      <td>4391</td>\n",
       "    </tr>\n",
       "    <tr>\n",
       "      <th>4</th>\n",
       "      <td>2011-12-16</td>\n",
       "      <td>NaN</td>\n",
       "      <td>.52..5.</td>\n",
       "      <td>4903</td>\n",
       "      <td>5014</td>\n",
       "      <td>5014</td>\n",
       "      <td>4877</td>\n",
       "      <td>193310</td>\n",
       "      <td>.-2..64.</td>\n",
       "      <td>.67..5.</td>\n",
       "      <td>...</td>\n",
       "      <td>.167..399994.</td>\n",
       "      <td>.172..966995.</td>\n",
       "      <td>.164..100006.</td>\n",
       "      <td>.166..867004.</td>\n",
       "      <td>3192585</td>\n",
       "      <td>.60..5.</td>\n",
       "      <td>61</td>\n",
       "      <td>.57..099998.</td>\n",
       "      <td>.57..400002.</td>\n",
       "      <td>4706</td>\n",
       "    </tr>\n",
       "  </tbody>\n",
       "</table>\n",
       "<p>5 rows × 24 columns</p>\n",
       "</div>"
      ],
      "text/plain": [
       "         Date US_Price  Dollar_eq  Price  Open  High   Low  Volume  \\\n",
       "0  2011-12-12      NaN  .52..605.   5203  5180  5222  5161  220040   \n",
       "1  2011-12-13      NaN    .53..1.   5342  5206  5380  5206  214520   \n",
       "2  2011-12-14      NaN   .53..61.   5209  5353  5368  5186  243960   \n",
       "3  2011-12-15      NaN   .53..52.   5036  5200  5200  5021  225330   \n",
       "4  2011-12-16      NaN    .52..5.   4903  5014  5014  4877  193310   \n",
       "\n",
       "  Percent_Change      IOC_Open    ...          ONGC_Open      ONGC_High  \\\n",
       "0        .2..53.            68    ...      .174..800003.  .177..233002.   \n",
       "1        .2..67.  .67..112503.    ...      .170..867004.  .172..199997.   \n",
       "2       .-2..49.     .69..125.    ...      .169..667007.  .171..332993.   \n",
       "3       .-3..32.      .67..75.    ...      .166..667007.  .169..167007.   \n",
       "4       .-2..64.       .67..5.    ...      .167..399994.  .172..966995.   \n",
       "\n",
       "        ONGC_Low     ONGC_Close ONGC_Volume      TCI_Open      TCI_High  \\\n",
       "0  .170..332993.  .171..600006.     3607640            62  .62..450001.   \n",
       "1  .168..367004.  .170..266998.     3822892  .59..900002.  .60..849998.   \n",
       "2  .167..332993.  .168..033005.     3553436       .60..5.       .60..5.   \n",
       "3  .165..332993.  .167..399994.     7229764       .60..5.       .60..5.   \n",
       "4  .164..100006.  .166..867004.     3192585       .60..5.            61   \n",
       "\n",
       "        TCI_Low     TCI_Close TCI_Volume  \n",
       "0       .58..5.  .59..900002.       2818  \n",
       "1            58  .59..349998.       3453  \n",
       "2  .59..950001.            60       1813  \n",
       "3  .58..700001.  .59..400002.       4391  \n",
       "4  .57..099998.  .57..400002.       4706  \n",
       "\n",
       "[5 rows x 24 columns]"
      ]
     },
     "execution_count": 1,
     "metadata": {},
     "output_type": "execute_result"
    }
   ],
   "source": [
    "import numpy as np\n",
    "from math import sqrt\n",
    "from sklearn.svm import SVR\n",
    "import matplotlib.pyplot as plt\n",
    "from sklearn.model_selection import train_test_split\n",
    "import pandas as pd\n",
    "from sklearn.metrics import mean_squared_error\n",
    "df = pd.read_csv(\"merge_oil.csv\")\n",
    "df.head()"
   ]
  },
  {
   "cell_type": "code",
   "execution_count": 2,
   "metadata": {},
   "outputs": [],
   "source": [
    "def conv_to_float(n):\n",
    "    if type(n)==int or type(n)==float:\n",
    "        return float(n)\n",
    "    l = n.split('.')\n",
    "    if(len(l)==1):\n",
    "        return float(l[0])\n",
    "    m = l[1]+\".\"+l[-2]\n",
    "    return float(m)\n"
   ]
  },
  {
   "cell_type": "code",
   "execution_count": 3,
   "metadata": {},
   "outputs": [],
   "source": [
    "ioc_close = [conv_to_float(i) for i in list(df[\"IOC_Close\"])]\n",
    "ongc_close = [conv_to_float(i) for i in list(df[\"ONGC_Close\"])]\n",
    "tci_close = [conv_to_float(i) for i in list(df[\"TCI_Close\"])]\n",
    "crude_price = list(df[\"Price\"])"
   ]
  },
  {
   "cell_type": "code",
   "execution_count": 4,
   "metadata": {},
   "outputs": [],
   "source": [
    "# Fit regression model\n",
    "svr_rbf = SVR(kernel='rbf', C=1e3, gamma=0.1)\n",
    "svr_lin = SVR(kernel='linear', C=1e3)"
   ]
  },
  {
   "cell_type": "code",
   "execution_count": 5,
   "metadata": {},
   "outputs": [],
   "source": [
    "xtrain = crude_price[0:round(0.8*len(crude_price))]\n",
    "xtest = np.asarray(crude_price[len(xtrain):])\n",
    "date = df[\"Date\"][len(xtrain):]\n",
    "\n",
    "xtrain = np.asarray(xtrain).reshape(-1,1)\n",
    "xtest = xtest.reshape(-1,1)"
   ]
  },
  {
   "cell_type": "code",
   "execution_count": 12,
   "metadata": {},
   "outputs": [],
   "source": [
    "ytrain = ongc_close[0:round(0.8*len(ongc_close))]\n",
    "ytest = np.asarray(ongc_close[len(ytrain):])\n",
    "\n",
    "ytrain = np.asarray(ytrain)\n",
    "ongc_r = svr_rbf.fit(xtrain,ytrain)\n",
    "ongc_y_rbf  = ongc_r.predict(xtest)\n",
    "ongc_y_trbf = ongc_r.predict(xtrain)"
   ]
  },
  {
   "cell_type": "code",
   "execution_count": 13,
   "metadata": {},
   "outputs": [],
   "source": [
    "ongc_y_rbf = ongc_y_rbf.tolist()\n",
    "for i in range(len(ongc_y_rbf)):\n",
    "    ongc_y_rbf[i] = float(format(ongc_y_rbf[i], '.2f'))\n",
    "\n",
    "ongc_y_trbf = ongc_y_trbf.tolist()\n",
    "for i in range(len(ongc_y_trbf)):\n",
    "    ongc_y_trbf[i] = float(format(ongc_y_trbf[i], '.2f'))"
   ]
  },
  {
   "cell_type": "code",
   "execution_count": 14,
   "metadata": {},
   "outputs": [
    {
     "data": {
      "text/plain": [
       "29.577761527854538"
      ]
     },
     "execution_count": 14,
     "metadata": {},
     "output_type": "execute_result"
    }
   ],
   "source": [
    "sqrt(mean_squared_error(ytest,ongc_y_rbf))"
   ]
  },
  {
   "cell_type": "code",
   "execution_count": 19,
   "metadata": {},
   "outputs": [
    {
     "name": "stdout",
     "output_type": "stream",
     "text": [
      "92.84446359659641\n"
     ]
    }
   ],
   "source": [
    "ytrain = ioc_close[0:round(0.8*len(ioc_close))]\n",
    "ytest = np.asarray(ioc_close[len(ytrain):])\n",
    "\n",
    "ytrain = np.asarray(ytrain)\n",
    "ioc_r = svr_rbf.fit(xtrain,ytrain)\n",
    "ioc_y_rbf  = ioc_r.predict(xtest)\n",
    "ioc_y_trbf = ioc_r.predict(xtrain)\n",
    "\n",
    "ioc_y_rbf = ioc_y_rbf.tolist()\n",
    "for i in range(len(ioc_y_rbf)):\n",
    "    ioc_y_rbf[i] = float(format(ioc_y_rbf[i], '.2f'))\n",
    "\n",
    "ioc_y_trbf = ioc_y_trbf.tolist()\n",
    "for i in range(len(ioc_y_trbf)):\n",
    "    ioc_y_trbf[i] = float(format(ioc_y_trbf[i], '.2f'))\n",
    "print(sqrt(mean_squared_error(ytest,ioc_y_rbf)))"
   ]
  },
  {
   "cell_type": "code",
   "execution_count": 20,
   "metadata": {},
   "outputs": [
    {
     "name": "stdout",
     "output_type": "stream",
     "text": [
      "92.84446359659641\n"
     ]
    }
   ],
   "source": [
    "print(sqrt(mean_squared_error(ytest,ioc_y_rbf)))"
   ]
  },
  {
   "cell_type": "code",
   "execution_count": 16,
   "metadata": {},
   "outputs": [
    {
     "data": {
      "text/plain": [
       "137.04576578174274"
      ]
     },
     "execution_count": 16,
     "metadata": {},
     "output_type": "execute_result"
    }
   ],
   "source": [
    "ytrain = tci_close[0:round(0.8*len(tci_close))]\n",
    "ytest = np.asarray(tci_close[len(ytrain):])\n",
    "\n",
    "ytrain = np.asarray(ytrain)\n",
    "tci_r = svr_rbf.fit(xtrain,ytrain)\n",
    "tci_y_rbf  = tci_r.predict(xtest)\n",
    "tci_y_trbf = tci_r.predict(xtrain)\n",
    "\n",
    "tci_y_rbf = tci_y_rbf.tolist()\n",
    "for i in range(len(tci_y_rbf)):\n",
    "    tci_y_rbf[i] = float(format(tci_y_rbf[i], '.2f'))\n",
    "\n",
    "tci_y_trbf = tci_y_trbf.tolist()\n",
    "for i in range(len(tci_y_trbf)):\n",
    "    tci_y_trbf[i] = float(format(tci_y_trbf[i], '.2f'))\n",
    "sqrt(sqrt(mean_squared_error(ytest,tci_y_rbf)))"
   ]
  },
  {
   "cell_type": "code",
   "execution_count": 17,
   "metadata": {},
   "outputs": [
    {
     "data": {
      "text/plain": [
       "11.706654764779849"
      ]
     },
     "execution_count": 17,
     "metadata": {},
     "output_type": "execute_result"
    }
   ],
   "source": [
    "sqrt(sqrt(mean_squared_error(ytest,tci_y_rbf)))"
   ]
  },
  {
   "cell_type": "code",
   "execution_count": 21,
   "metadata": {},
   "outputs": [],
   "source": [
    "f = open(\"pred_price.txt\",\"w\")\n",
    "f.write(\"tci\\n[\")\n",
    "for i in range(len(ytest)):\n",
    "    f.write(str(tci_y_rbf[i])+',')\n",
    "f.write(\"]\\n\")\n",
    "f.close()"
   ]
  },
  {
   "cell_type": "code",
   "execution_count": 22,
   "metadata": {},
   "outputs": [],
   "source": [
    "f = open(\"pred_price.txt\",\"a\")\n",
    "f.write(\"ongc\\n[\")\n",
    "for i in range(len(ytest)):\n",
    "    f.write(str(ongc_y_rbf[i])+',')\n",
    "f.write(\"]\\n\")\n",
    "f.close()"
   ]
  },
  {
   "cell_type": "code",
   "execution_count": 23,
   "metadata": {},
   "outputs": [],
   "source": [
    "f = open(\"pred_price.txt\",\"a\")\n",
    "f.write(\"ioc\\n[\")\n",
    "for i in range(len(ytest)):\n",
    "    f.write(str(ioc_y_rbf[i])+',')\n",
    "f.write(\"]\\n\")\n",
    "f.close()"
   ]
  },
  {
   "cell_type": "code",
   "execution_count": null,
   "metadata": {},
   "outputs": [],
   "source": []
  }
 ],
 "metadata": {
  "kernelspec": {
   "display_name": "Python 3",
   "language": "python",
   "name": "python3"
  },
  "language_info": {
   "codemirror_mode": {
    "name": "ipython",
    "version": 3
   },
   "file_extension": ".py",
   "mimetype": "text/x-python",
   "name": "python",
   "nbconvert_exporter": "python",
   "pygments_lexer": "ipython3",
   "version": "3.6.5"
  }
 },
 "nbformat": 4,
 "nbformat_minor": 2
}
