{
 "cells": [
  {
   "cell_type": "code",
   "execution_count": 23,
   "metadata": {},
   "outputs": [],
   "source": [
    "import pandas as pd\n",
    "from matplotlib import pyplot as plt\n",
    "\n"
   ]
  },
  {
   "cell_type": "code",
   "execution_count": 25,
   "metadata": {},
   "outputs": [
    {
     "data": {
      "text/html": [
       "<div>\n",
       "<style scoped>\n",
       "    .dataframe tbody tr th:only-of-type {\n",
       "        vertical-align: middle;\n",
       "    }\n",
       "\n",
       "    .dataframe tbody tr th {\n",
       "        vertical-align: top;\n",
       "    }\n",
       "\n",
       "    .dataframe thead th {\n",
       "        text-align: right;\n",
       "    }\n",
       "</style>\n",
       "<table border=\"1\" class=\"dataframe\">\n",
       "  <thead>\n",
       "    <tr style=\"text-align: right;\">\n",
       "      <th></th>\n",
       "      <th>Time</th>\n",
       "      <th>Quantity</th>\n",
       "      <th>barrels</th>\n",
       "      <th>US_barrels</th>\n",
       "      <th>opec_barrels</th>\n",
       "      <th>Year</th>\n",
       "      <th>Month</th>\n",
       "    </tr>\n",
       "  </thead>\n",
       "  <tbody>\n",
       "  </tbody>\n",
       "</table>\n",
       "</div>"
      ],
      "text/plain": [
       "Empty DataFrame\n",
       "Columns: [Time, Quantity, barrels, US_barrels, opec_barrels, Year, Month]\n",
       "Index: []"
      ]
     },
     "execution_count": 25,
     "metadata": {},
     "output_type": "execute_result"
    }
   ],
   "source": [
    "mon = {'january':1,\"february\":2,\"march\":3,\"april\":4,\"may\":5,\"june\":6,\"july\":7,\"august\":8,\"september\":9,\"october\":10,\"november\":11,'december':12}\n",
    "\n",
    "\n",
    "df = pd.read_csv('final_import.csv')\n",
    "\n",
    "'''\n",
    "import_qty = list(df['Quantity'])\n",
    "import_qty.reverse()\n",
    "\n",
    "plt.title(\"Import quantity monthly from 2011-2018\")\n",
    "plt.plot(import_qty)\n",
    "plt.show()\n",
    "'''\n",
    "\n",
    "year = [\"20\"+''.join(list(i)[-2:]) for i in df[\"Time\"]]\n",
    "df[\"Year\"] = year\n",
    "\n",
    "df[\"Month\"] = [mon[''.join(list(i)[:-2])] for i in df[\"Time\"]]\n",
    "\n",
    "#df.sort_values(by=['Year','Month'])\n",
    "#df.head()\n",
    "\n",
    "new_df = df[df['Year']==2013]\n",
    "new_df\n",
    "\n"
   ]
  },
  {
   "cell_type": "code",
   "execution_count": null,
   "metadata": {},
   "outputs": [],
   "source": []
  }
 ],
 "metadata": {
  "kernelspec": {
   "display_name": "Python 3",
   "language": "python",
   "name": "python3"
  },
  "language_info": {
   "codemirror_mode": {
    "name": "ipython",
    "version": 3
   },
   "file_extension": ".py",
   "mimetype": "text/x-python",
   "name": "python",
   "nbconvert_exporter": "python",
   "pygments_lexer": "ipython3",
   "version": "3.6.4"
  }
 },
 "nbformat": 4,
 "nbformat_minor": 2
}
