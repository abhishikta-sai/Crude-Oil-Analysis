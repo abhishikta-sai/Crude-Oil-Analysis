{
 "cells": [
  {
   "cell_type": "code",
   "execution_count": 23,
   "metadata": {},
   "outputs": [],
   "source": [
    "import pandas as pd\n",
    "from matplotlib import pyplot as plt\n",
    "\n"
   ]
  },
  {
   "cell_type": "code",
   "execution_count": 48,
   "metadata": {},
   "outputs": [
    {
     "name": "stdout",
     "output_type": "stream",
     "text": [
      "           Time  Quantity     barrels  US_barrels  opec_barrels  Year  Month\n",
      "75      april11     15737  1089000400         NaN           NaN  2011      4\n",
      "76        may11     13784   953852800         NaN           NaN  2011      5\n",
      "77       june11     13935   964302000         NaN           NaN  2011      6\n",
      "78       july11     13750   951500000         NaN           NaN  2011      7\n",
      "79     august11     14264   987068800         NaN           NaN  2011      8\n",
      "80  september11     12990   898908000         NaN           NaN  2011      9\n",
      "81    october11     12463   862439600         NaN           NaN  2011     10\n",
      "82   november11     14850  1027620000         NaN           NaN  2011     11\n",
      "83   december11     13933   964163600   1204000.0   962959600.0  2011     12\n"
     ]
    }
   ],
   "source": [
    "mon = {'january':1,\"february\":2,\"march\":3,\"april\":4,\"may\":5,\"june\":6,\"july\":7,\"august\":8,\"september\":9,\"october\":10,\"november\":11,'december':12}\n",
    "\n",
    "\n",
    "df = pd.read_csv('final_import.csv')\n",
    "\n",
    "'''\n",
    "import_qty = list(df['Quantity'])\n",
    "import_qty.reverse()\n",
    "\n",
    "plt.title(\"Import quantity monthly from 2011-2018\")\n",
    "plt.plot(import_qty)\n",
    "plt.show()\n",
    "'''\n",
    "\n",
    "\n",
    "year = [int(\"20\"+''.join(list(i)[-2:])) for i in df[\"Time\"]]\n",
    "df[\"Year\"] = year\n",
    "\n",
    "df[\"Month\"] = [mon[''.join(list(i)[:-2])] for i in df[\"Time\"]]\n",
    "\n",
    "#df.sort_values(by=['Year','Month'])\n",
    "#df.head()\n",
    "\n",
    "#print(df[df['Year']==2011])\n",
    "\n",
    "arranged_years = []\n",
    "arranged_months = []\n",
    "arranged_opec = []\n",
    "arranged_usb = []\n",
    "arranged_barrels = []\n",
    "arranged_qty = []\n",
    "\n",
    "for i in range(2011,2019):\n",
    "    \n",
    "    new_df = df[df['Year']==i]\n",
    "    arranged_years.append(list(new_df[\"Year\"]))\n",
    "    arranged_months.append(list(new_df[\"Month\"]))\n",
    "    arranged_opec.append(list(new_df[\"opec_barrels\"]))\n",
    "    arranged_usb.append(list(new_df[\"US_barrels\"]))\n",
    "    arranged_barrels.append(list(new_df[\"barrels\"]))\n",
    "    arranged_qty.append(list(new_df[\"Quantity\"]))\n",
    "\n",
    "#print(arranged_years[0])\n",
    "\n",
    "arr_years = []\n",
    "arr_months = []\n",
    "arr_opec = []\n",
    "arr_usb = []\n",
    "arr_barrels = []\n",
    "arr_qty = []\n",
    "\n",
    "for i in arranged_years:\n",
    "    for j in i:\n",
    "        arr_years.append(j)\n",
    "\n",
    "for i in arranged_months:\n",
    "    for j in i:\n",
    "        arr_months.append(j)\n",
    "\n",
    "for i in arranged_opec:\n",
    "    for j in i:\n",
    "        arr_opec.append(j)\n",
    "\n",
    "for i in arranged_usb:\n",
    "    for j in i:\n",
    "        arr_usb.append(j)\n",
    "\n",
    "for i in arranged_barrels:\n",
    "    for j in i:\n",
    "        arr_barrels.append(j)\n",
    "for i in arranged_qty:\n",
    "    for j in i:\n",
    "        arr_qty.append(j)\n",
    "\n",
    "        \n",
    "        \n",
    "final_df = pd.DataFrame({'Year':arr_years,'Month':arr_months,'Barrels':arr_barrels,'Quantity':arr_qty,'OPEC_barrels':arr_opec,'US_barrels':arr_usb})\n",
    "final_df = final_df[['Year','Month','Barrels','Quantity','OPEC_barrels','US_barrels']]\n",
    "final_df.to_csv(\"imports_updated.csv\", sep=',', encoding='utf-8')\n"
   ]
  },
  {
   "cell_type": "code",
   "execution_count": null,
   "metadata": {},
   "outputs": [],
   "source": []
  }
 ],
 "metadata": {
  "kernelspec": {
   "display_name": "Python 3",
   "language": "python",
   "name": "python3"
  },
  "language_info": {
   "codemirror_mode": {
    "name": "ipython",
    "version": 3
   },
   "file_extension": ".py",
   "mimetype": "text/x-python",
   "name": "python",
   "nbconvert_exporter": "python",
   "pygments_lexer": "ipython3",
   "version": "3.6.4"
  }
 },
 "nbformat": 4,
 "nbformat_minor": 2
}
