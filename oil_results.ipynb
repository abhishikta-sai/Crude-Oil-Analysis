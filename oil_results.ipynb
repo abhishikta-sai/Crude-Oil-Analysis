{
 "cells": [
  {
   "cell_type": "code",
   "execution_count": 28,
   "metadata": {},
   "outputs": [],
   "source": [
    "from math import sqrt\n",
    "from numpy import concatenate\n",
    "from matplotlib import pyplot\n",
    "from pandas import read_csv\n",
    "from pandas import DataFrame\n",
    "from pandas import concat\n",
    "from sklearn.preprocessing import MinMaxScaler\n",
    "from sklearn.metrics import mean_squared_error\n",
    "from keras.models import Sequential\n",
    "from keras.layers import Dense\n",
    "from keras.layers import LSTM\n",
    "import numpy as np"
   ]
  },
  {
   "cell_type": "code",
   "execution_count": 29,
   "metadata": {},
   "outputs": [],
   "source": [
    "# convert series to supervised learning\n",
    "def series_to_supervised(data, n_in=1, n_out=1, dropnan=True):\n",
    "    n_vars = 1 if type(data) is list else data.shape[1]\n",
    "    df = DataFrame(data)\n",
    "    cols, names = list(), list()\n",
    "    # input sequence (t-n, ... t-1)\n",
    "    for i in range(n_in, 0, -1):\n",
    "        cols.append(df.shift(i))\n",
    "        names += [('var%d(t-%d)' % (j+1, i)) for j in range(n_vars)]\n",
    "    # forecast sequence (t, t+1, ... t+n)\n",
    "    for i in range(0, n_out):\n",
    "        cols.append(df.shift(-i))\n",
    "        if i == 0:\n",
    "            names += [('var%d(t)' % (j+1)) for j in range(n_vars)]\n",
    "        else:\n",
    "            names += [('var%d(t+%d)' % (j+1, i)) for j in range(n_vars)]\n",
    "    # put it all together\n",
    "    agg = concat(cols, axis=1)\n",
    "    agg.columns = names\n",
    "    # drop rows with NaN values\n",
    "    if dropnan:\n",
    "        agg.dropna(inplace=True)\n",
    "    return agg"
   ]
  },
  {
   "cell_type": "code",
   "execution_count": 53,
   "metadata": {},
   "outputs": [
    {
     "name": "stdout",
     "output_type": "stream",
     "text": [
      "    Price  US_Price  Dollar_eq    Open    High     Low    Volume  \\\n",
      "0  5152.0     71.12      72.36  5066.0  5163.0  5063.0  123550.0   \n",
      "1  5055.0     69.85      72.71  4983.0  5118.0  4962.0  144670.0   \n",
      "2  4995.0     68.91      72.54  4987.0  5049.0  4965.0  122280.0   \n",
      "3  4950.0     68.99      71.88  4930.0  5025.0  4888.0  143400.0   \n",
      "4  5085.0     70.37      72.16  5050.0  5140.0  5020.0  155090.0   \n",
      "\n",
      "   Percent_Change  \n",
      "0            1.92  \n",
      "1            1.20  \n",
      "2            0.91  \n",
      "3            0.65  \n",
      "4            0.81  \n",
      "   var1(t-1)  var2(t-1)  var3(t-1)  var4(t-1)  var5(t-1)  var6(t-1)  \\\n",
      "1   0.584143   0.532614   0.985477   0.573062   0.554933   0.591074   \n",
      "2   0.567014   0.517552   1.000000   0.558235   0.547292   0.572750   \n",
      "3   0.556419   0.506404   0.992946   0.558950   0.535575   0.573295   \n",
      "4   0.548473   0.507353   0.965560   0.548767   0.531499   0.559325   \n",
      "5   0.572311   0.523719   0.977179   0.570204   0.551027   0.583273   \n",
      "\n",
      "   var7(t-1)  var8(t-1)   var1(t)  \n",
      "1   0.296071   0.132364  0.567014  \n",
      "2   0.350233   0.121571  0.556419  \n",
      "3   0.292814   0.117224  0.548473  \n",
      "4   0.346976   0.113326  0.572311  \n",
      "5   0.376955   0.115725  0.565072  \n"
     ]
    }
   ],
   "source": [
    "df1 = read_csv('merge_oil.csv', header=0, index_col=0)\n",
    "df1 = df1[[\"Price\",\"US_Price\",\"Dollar_eq\",\"Open\",\"High\",\"Low\",\"Volume\",\"Percent_Change\"]]\n",
    "print(df1.head())\n",
    "values = df1.values\n",
    "\n",
    "values = values.astype('float32')\n",
    "scaler = MinMaxScaler(feature_range=(0, 1))\n",
    "scaled = scaler.fit_transform(values)\n",
    "reframed = series_to_supervised(scaled, 1, 1)\n",
    "#print(reframed.head())\n",
    "reframed.drop(reframed.columns[[9,10,11,12,13,14,15]], axis=1, inplace=True)\n",
    "print(reframed.head())"
   ]
  },
  {
   "cell_type": "code",
   "execution_count": 54,
   "metadata": {},
   "outputs": [
    {
     "name": "stdout",
     "output_type": "stream",
     "text": [
      "(1326, 1, 8) (1326,) (331, 1, 8) (331,)\n"
     ]
    }
   ],
   "source": [
    "values = reframed.values\n",
    "#print(values)\n",
    "split = int(len(list(df1[\"Price\"]))*0.8)\n",
    "train = values[:split,:]\n",
    "test = values[split:,:]\n",
    "train_X,train_y = train[:, :-1], train[:, -1]\n",
    "test_X, test_y = test[:, :-1], test[:, -1]\n",
    "#print(test_y)\n",
    "\n",
    "train_X = train_X.reshape((train_X.shape[0], 1, train_X.shape[1]))\n",
    "test_X = test_X.reshape((test_X.shape[0], 1, test_X.shape[1]))\n",
    "\n",
    "print(train_X.shape, train_y.shape, test_X.shape, test_y.shape)"
   ]
  },
  {
   "cell_type": "code",
   "execution_count": 55,
   "metadata": {},
   "outputs": [
    {
     "name": "stdout",
     "output_type": "stream",
     "text": [
      "Train on 1326 samples, validate on 331 samples\n",
      "Epoch 1/50\n",
      " - 2s - loss: 0.2560 - val_loss: 0.2662\n",
      "Epoch 2/50\n",
      " - 0s - loss: 0.1315 - val_loss: 0.1148\n",
      "Epoch 3/50\n",
      " - 0s - loss: 0.1113 - val_loss: 0.0615\n",
      "Epoch 4/50\n",
      " - 0s - loss: 0.0913 - val_loss: 0.0426\n",
      "Epoch 5/50\n",
      " - 0s - loss: 0.0662 - val_loss: 0.0244\n",
      "Epoch 6/50\n",
      " - 0s - loss: 0.0394 - val_loss: 0.0231\n",
      "Epoch 7/50\n",
      " - 0s - loss: 0.0187 - val_loss: 0.0210\n",
      "Epoch 8/50\n",
      " - 0s - loss: 0.0239 - val_loss: 0.0236\n",
      "Epoch 9/50\n",
      " - 0s - loss: 0.0177 - val_loss: 0.0204\n",
      "Epoch 10/50\n",
      " - 0s - loss: 0.0218 - val_loss: 0.0222\n",
      "Epoch 11/50\n",
      " - 0s - loss: 0.0188 - val_loss: 0.0177\n",
      "Epoch 12/50\n",
      " - 0s - loss: 0.0255 - val_loss: 0.0224\n",
      "Epoch 13/50\n",
      " - 0s - loss: 0.0139 - val_loss: 0.0213\n",
      "Epoch 14/50\n",
      " - 0s - loss: 0.0216 - val_loss: 0.0205\n",
      "Epoch 15/50\n",
      " - 0s - loss: 0.0179 - val_loss: 0.0177\n",
      "Epoch 16/50\n",
      " - 0s - loss: 0.0245 - val_loss: 0.0195\n",
      "Epoch 17/50\n",
      " - 0s - loss: 0.0143 - val_loss: 0.0271\n",
      "Epoch 18/50\n",
      " - 0s - loss: 0.0200 - val_loss: 0.0217\n",
      "Epoch 19/50\n",
      " - 0s - loss: 0.0166 - val_loss: 0.0157\n",
      "Epoch 20/50\n",
      " - 0s - loss: 0.0183 - val_loss: 0.0147\n",
      "Epoch 21/50\n",
      " - 0s - loss: 0.0191 - val_loss: 0.0193\n",
      "Epoch 22/50\n",
      " - 0s - loss: 0.0189 - val_loss: 0.0150\n",
      "Epoch 23/50\n",
      " - 0s - loss: 0.0196 - val_loss: 0.0152\n",
      "Epoch 24/50\n",
      " - 0s - loss: 0.0174 - val_loss: 0.0140\n",
      "Epoch 25/50\n",
      " - 0s - loss: 0.0244 - val_loss: 0.0134\n",
      "Epoch 26/50\n",
      " - 0s - loss: 0.0198 - val_loss: 0.0136\n",
      "Epoch 27/50\n",
      " - 0s - loss: 0.0170 - val_loss: 0.0135\n",
      "Epoch 28/50\n",
      " - 0s - loss: 0.0155 - val_loss: 0.0129\n",
      "Epoch 29/50\n",
      " - 0s - loss: 0.0205 - val_loss: 0.0148\n",
      "Epoch 30/50\n",
      " - 0s - loss: 0.0189 - val_loss: 0.0128\n",
      "Epoch 31/50\n",
      " - 0s - loss: 0.0186 - val_loss: 0.0132\n",
      "Epoch 32/50\n",
      " - 0s - loss: 0.0175 - val_loss: 0.0128\n",
      "Epoch 33/50\n",
      " - 0s - loss: 0.0251 - val_loss: 0.0126\n",
      "Epoch 34/50\n",
      " - 0s - loss: 0.0197 - val_loss: 0.0141\n",
      "Epoch 35/50\n",
      " - 0s - loss: 0.0136 - val_loss: 0.0115\n",
      "Epoch 36/50\n",
      " - 0s - loss: 0.0119 - val_loss: 0.0115\n",
      "Epoch 37/50\n",
      " - 0s - loss: 0.0164 - val_loss: 0.0183\n",
      "Epoch 38/50\n",
      " - 0s - loss: 0.0170 - val_loss: 0.0126\n",
      "Epoch 39/50\n",
      " - 0s - loss: 0.0154 - val_loss: 0.0107\n",
      "Epoch 40/50\n",
      " - 0s - loss: 0.0135 - val_loss: 0.0108\n",
      "Epoch 41/50\n",
      " - 0s - loss: 0.0230 - val_loss: 0.0107\n",
      "Epoch 42/50\n",
      " - 0s - loss: 0.0200 - val_loss: 0.0124\n",
      "Epoch 43/50\n",
      " - 0s - loss: 0.0139 - val_loss: 0.0100\n",
      "Epoch 44/50\n",
      " - 0s - loss: 0.0109 - val_loss: 0.0104\n",
      "Epoch 45/50\n",
      " - 0s - loss: 0.0179 - val_loss: 0.0151\n",
      "Epoch 46/50\n",
      " - 0s - loss: 0.0193 - val_loss: 0.0109\n",
      "Epoch 47/50\n",
      " - 0s - loss: 0.0152 - val_loss: 0.0094\n",
      "Epoch 48/50\n",
      " - 0s - loss: 0.0123 - val_loss: 0.0096\n",
      "Epoch 49/50\n",
      " - 0s - loss: 0.0228 - val_loss: 0.0097\n",
      "Epoch 50/50\n",
      " - 0s - loss: 0.0192 - val_loss: 0.0117\n"
     ]
    },
    {
     "data": {
      "image/png": "[encoded data removed]",
      "text/plain": [
       "<matplotlib.figure.Figure at 0x7ff6ef236710>"
      ]
     },
     "metadata": {},
     "output_type": "display_data"
    },
    {
     "name": "stdout",
     "output_type": "stream",
     "text": [
      "Test RMSE: 82.080\n"
     ]
    }
   ],
   "source": [
    "# design network\n",
    "model = Sequential()\n",
    "model.add(LSTM(50, input_shape=(train_X.shape[1], train_X.shape[2])))\n",
    "model.add(Dense(1))\n",
    "model.compile(loss='mae', optimizer='adam')\n",
    "# fit network\n",
    "history = model.fit(train_X, train_y, epochs=50, batch_size=72, validation_data=(test_X, test_y), verbose=2, shuffle=False)\n",
    "# plot history\n",
    "pyplot.plot(history.history['loss'], label='train')\n",
    "pyplot.plot(history.history['val_loss'], label='test')\n",
    "pyplot.legend()\n",
    "pyplot.show()\n",
    "\n",
    "\n",
    "yhat = model.predict(test_X)\n",
    "test_X = test_X.reshape((test_X.shape[0], test_X.shape[2]))\n",
    "# invert scaling for forecast\n",
    "inv_yhat = concatenate((yhat, test_X[:, 1:]), axis=1)\n",
    "inv_yhat = scaler.inverse_transform(inv_yhat)\n",
    "inv_yhat = inv_yhat[:,0]\n",
    "# invert scaling for actual\n",
    "test_y = test_y.reshape((len(test_y), 1))\n",
    "inv_y = concatenate((test_y, test_X[:, 1:]), axis=1)\n",
    "inv_y = scaler.inverse_transform(inv_y)\n",
    "inv_y = inv_y[:,0]\n",
    "# calculate RMSE\n",
    "rmse = sqrt(mean_squared_error(inv_y, inv_yhat))\n",
    "print('Test RMSE: %.3f' % rmse)"
   ]
  },
  {
   "cell_type": "code",
   "execution_count": 56,
   "metadata": {},
   "outputs": [
    {
     "data": {
      "image/png": "[encoded data removed]",
      "text/plain": [
       "<matplotlib.figure.Figure at 0x7ff6efae8940>"
      ]
     },
     "metadata": {},
     "output_type": "display_data"
    }
   ],
   "source": [
    "pyplot.plot(range(1,len(yhat)+1),inv_y,label='actual')\n",
    "pyplot.plot(range(1,len(yhat)+1),inv_yhat,label='predicted')\n",
    "pyplot.legend()\n",
    "pyplot.show()\n"
   ]
  },
  {
   "cell_type": "code",
   "execution_count": 57,
   "metadata": {},
   "outputs": [
    {
     "name": "stdout",
     "output_type": "stream",
     "text": [
      "[5124.0, 5077.0, 5059.0, 4847.0, 4834.0, 4737.0, 4701.0, 4794.0, 4844.0, 4984.0, 5085.0, 5140.0, 5133.0, 5096.0, 5087.0, 5094.0, 5199.0, 5304.0, 5285.0, 5305.0, 5235.0, 5157.0, 5089.0, 5053.0, 5092.0, 5010.0, 5056.0, 5061.0, 5031.0, 5041.0, 5036.0, 4978.0, 4976.0, 4980.0, 4940.0, 4977.0, 4951.0, 5010.0, 5076.0, 5007.0, 5028.0, 5051.0, 5069.0, 5102.0, 5164.0, 5210.0, 5199.0, 5255.0, 5249.0, 5248.0, 5229.0, 5144.0, 5133.0, 5139.0, 5144.0, 5142.0, 5182.0, 5202.0, 5210.0, 5228.0, 5213.0, 5194.0, 5178.0, 5179.0, 5202.0, 5151.0, 5181.0, 5150.0, 5131.0, 5101.0, 5120.0, 5132.0, 5106.0, 5120.0, 5149.0, 5113.0, 5080.0, 5049.0, 5015.0, 4995.0, 4992.0, 4983.0, 4908.0, 4913.0, 4977.0, 4947.0, 4826.0, 4786.0, 4725.0, 4716.0, 4729.0, 4671.0, 4700.0, 4691.0, 4687.0, 4817.0, 4856.0, 4878.0, 4838.0, 4839.0, 4886.0, 4903.0, 4906.0, 4823.0, 4806.0, 4934.0, 4831.0, 4666.0, 4720.0, 4719.0, 4626.0, 4643.0, 4794.0, 4665.0, 4623.0, 4697.0, 4666.0, 4663.0, 4648.0, 4635.0, 4670.0, 4809.0, 4848.0, 4936.0, 4868.0, 4859.0, 4832.0, 4851.0, 4855.0, 4882.0, 4890.0, 4700.0, 4662.0, 4721.0, 4645.0, 4860.0, 4895.0, 4886.0, 4822.0, 4895.0, 4902.0, 4961.0, 5017.0, 5181.0, 5274.0, 5332.0, 5374.0, 5353.0, 5356.0, 5326.0, 5306.0, 5339.0, 5327.0, 5313.0, 5358.0, 5276.0, 5314.0, 5362.0, 5307.0, 5346.0, 5316.0, 5368.0, 5384.0, 5346.0, 5296.0, 5211.0, 5165.0, 5103.0, 5174.0, 5169.0, 5173.0, 5082.0, 5071.0, 4938.0, 4981.0, 4921.0, 4978.0, 5004.0, 4996.0, 4946.0, 4993.0, 5025.0, 5091.0, 5126.0, 4968.0, 4914.0, 4820.0, 4795.0, 4780.0, 4773.0, 4753.0, 4805.0, 4747.0, 4824.0, 4756.0, 4636.0, 4662.0, 4460.0, 4599.0, 4531.0, 4526.0, 4602.0, 4517.0, 4645.0, 4716.0, 4655.0, 4666.0, 4663.0, 4637.0, 4638.0, 4659.0, 4625.0, 4694.0, 4720.0, 4688.0, 4661.0, 4631.0, 4919.0, 4962.0, 5097.0, 5056.0, 5092.0, 5087.0, 5133.0, 5057.0, 5038.0, 5032.0, 5048.0, 5083.0, 5111.0, 5161.0, 5182.0, 5213.0, 5175.0, 5190.0, 5249.0, 5523.0, 5596.0, 5514.0, 5507.0, 5504.0, 5504.0, 5463.0, 5443.0, 5440.0, 5321.0, 5324.0, 5369.0, 5318.0, 5314.0, 5299.0, 5312.0, 5231.0, 5238.0, 5234.0, 5298.0, 5335.0, 5301.0, 5293.0, 5397.0, 5473.0, 5480.0, 5499.0, 5418.0, 5443.0, 5395.0, 5408.0, 5333.0, 5294.0, 5341.0, 5341.0, 5332.0, 5349.0, 5345.0, 5325.0, 5342.0, 5294.0, 5334.0, 5227.0, 5325.0, 5386.0, 5372.0, 5280.0, 5243.0, 5219.0, 5084.0, 5061.0, 5016.0, 4987.0, 4953.0, 4905.0, 4942.0, 4875.0, 4858.0, 4772.0, 4737.0, 4727.0, 4861.0, 4927.0, 4945.0, 4945.0, 4992.0, 4975.0, 5020.0, 5006.0, 5047.0, 5062.0, 5107.0, 5082.0, 5260.0, 5285.0, 5318.0, 5295.0, 5345.0, 5443.0, 5462.0, 5442.0, 5317.0, 5304.0, 5325.0, 5374.0, 5300.0, 5268.0, 5214.0, 5153.0, 4983.0, 4903.0, 5036.0, 5209.0, 5342.0, 5203.0]\n"
     ]
    }
   ],
   "source": [
    "print(list(inv_y))"
   ]
  },
  {
   "cell_type": "code",
   "execution_count": 58,
   "metadata": {},
   "outputs": [
    {
     "name": "stdout",
     "output_type": "stream",
     "text": [
      "[5136.431, 5143.1772, 5125.444, 5050.8506, 4894.584, 4855.7734, 4755.7617, 4827.5186, 4858.9214, 4964.969, 5078.4487, 5150.887, 5149.6255, 5123.7, 5120.945, 5108.3174, 5158.2153, 5280.7666, 5297.1, 5365.1636, 5296.016, 5213.9033, 5181.655, 5140.845, 5149.364, 5137.6646, 5134.2563, 5066.792, 5115.926, 5106.6255, 5098.339, 5072.3735, 5072.2427, 5059.077, 5028.839, 5045.74, 5043.6455, 5059.9565, 5109.5273, 5080.3447, 5059.6704, 5068.7285, 5101.824, 5127.636, 5153.472, 5217.513, 5232.348, 5258.906, 5261.396, 5252.917, 5237.9097, 5160.726, 5130.442, 5128.0464, 5107.161, 5126.397, 5147.63, 5142.6636, 5177.8228, 5181.7207, 5169.161, 5161.359, 5160.719, 5145.6084, 5192.158, 5156.328, 5161.6133, 5140.575, 5116.131, 5109.1313, 5119.6357, 5112.893, 5103.9487, 5127.48, 5133.7393, 5112.7817, 5056.005, 5046.0703, 5028.104, 4986.0063, 4996.4663, 4975.653, 4938.9497, 4933.389, 4939.219, 4946.3467, 4866.27, 4820.5723, 4764.782, 4766.1626, 4780.804, 4724.688, 4749.9087, 4766.6587, 4747.1963, 4796.664, 4884.484, 4877.539, 4885.6333, 4843.6206, 4863.084, 4932.9053, 4947.396, 4901.9087, 4858.8457, 4915.0312, 4909.837, 4819.036, 4854.8545, 4812.9175, 4734.838, 4710.1143, 4790.3213, 4766.987, 4732.1875, 4749.7856, 4755.463, 4753.6875, 4744.7524, 4754.8857, 4733.832, 4830.7705, 4934.609, 4975.3887, 4920.603, 4911.488, 4890.942, 4881.1426, 4881.173, 4849.9624, 4871.5073, 4709.1777, 4692.2974, 4697.639, 4644.639, 4777.5273, 4870.931, 4918.3384, 4855.1123, 4873.4644, 4912.67, 4939.3794, 4984.083, 5014.6416, 5196.2773, 5238.9546, 5328.691, 5297.6104, 5312.903, 5241.937, 5239.1055, 5185.4004, 5245.886, 5211.6, 5287.7637, 5234.995, 5248.0796, 5271.5337, 5249.538, 5265.19, 5268.301, 5305.7246, 5316.4814, 5297.51, 5274.114, 5240.895, 5172.565, 5143.3213, 5165.278, 5192.409, 5169.7954, 5126.939, 5101.9707, 4993.1265, 5019.07, 4991.985, 5038.6377, 5076.438, 5073.9873, 5055.007, 5084.106, 5114.5703, 5147.742, 5221.6665, 5137.13, 5048.6523, 4954.548, 4924.1167, 4913.587, 4909.583, 4859.096, 4896.901, 4883.835, 4898.334, 4881.53, 4745.8174, 4804.8936, 4640.425, 4726.1987, 4735.741, 4737.769, 4761.3853, 4698.8657, 4780.3516, 4859.203, 4865.9697, 4842.8955, 4853.1123, 4817.4277, 4799.4624, 4816.7437, 4861.3877, 4825.284, 4876.5913, 4886.1357, 4874.1807, 4775.259, 4997.028, 5113.852, 5217.484, 5229.333, 5207.8623, 5201.6875, 5223.8145, 5222.7383, 5118.9087, 5122.7515, 5130.2466, 5120.9434, 5168.4556, 5175.5117, 5239.4136, 5257.824, 5240.044, 5237.2153, 5274.0586, 5475.7407, 5613.8843, 5641.81, 5566.4165, 5538.215, 5551.795, 5525.897, 5518.905, 5495.575, 5464.036, 5407.1313, 5400.2827, 5373.6167, 5349.022, 5356.2017, 5353.0327, 5290.8755, 5276.793, 5276.401, 5286.13, 5369.3916, 5306.2295, 5365.4307, 5434.7314, 5518.121, 5560.772, 5573.5176, 5551.132, 5509.29, 5499.2197, 5493.6904, 5479.8525, 5402.464, 5378.189, 5410.695, 5417.0054, 5418.4937, 5438.9004, 5410.251, 5412.5547, 5400.3423, 5417.6387, 5360.855, 5374.3203, 5441.5264, 5479.2505, 5411.962, 5341.26, 5321.9126, 5297.6934, 5150.325, 5107.146, 5078.92, 5042.923, 5003.7603, 4983.1714, 4963.382, 4931.858, 4839.029, 4826.232, 4792.8564, 4862.342, 4957.369, 5002.2617, 5002.9316, 5040.83, 5029.1763, 5064.175, 5034.6187, 5099.1396, 5140.3726, 5158.1035, 5185.6934, 5245.179, 5318.131, 5349.92, 5379.414, 5394.455, 5461.3984, 5497.114, 5508.545, 5427.989, 5357.1943, 5364.715, 5415.399, 5379.936, 5345.42, 5288.9497, 5206.4985, 5091.9697, 4999.4907, 5019.9043, 5180.249, 5324.0024, 5300.5693]\n"
     ]
    }
   ],
   "source": [
    "print(list(inv_yhat))"
   ]
  },
  {
   "cell_type": "code",
   "execution_count": null,
   "metadata": {},
   "outputs": [],
   "source": []
  }
 ],
 "metadata": {
  "kernelspec": {
   "display_name": "Python 3",
   "language": "python",
   "name": "python3"
  },
  "language_info": {
   "codemirror_mode": {
    "name": "ipython",
    "version": 3
   },
   "file_extension": ".py",
   "mimetype": "text/x-python",
   "name": "python",
   "nbconvert_exporter": "python",
   "pygments_lexer": "ipython3",
   "version": "3.6.4"
  }
 },
 "nbformat": 4,
 "nbformat_minor": 2
}
